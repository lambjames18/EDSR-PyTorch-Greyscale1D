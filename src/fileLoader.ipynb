{
 "cells": [
  {
   "cell_type": "code",
   "execution_count": 1,
   "metadata": {},
   "outputs": [],
   "source": [
    "from skimage import io, transform"
   ]
  },
  {
   "cell_type": "code",
   "execution_count": 3,
   "metadata": {},
   "outputs": [],
   "source": [
    "# high and low resolution \n",
    "# train vs testing\n",
    "def save(img, hrpath_train, lrpath_train, hrpath_test, lrpath_test): \n",
    "    # high \n",
    "    top_left = img[:2000, :2000]\n",
    "    io.imsave(hrpath_train + '_tl.tiff', top_left)\n",
    "\n",
    "    top_right = img[:2000, 2000:4000]\n",
    "    io.imsave(hrpath_train + '_tr.tiff', top_right)\n",
    "\n",
    "    bot_left = img[2000:4000, :2000]\n",
    "    io.imsave(hrpath_train + '_bl.tiff', bot_left)\n",
    "\n",
    "    # save in testing\n",
    "    bot_right = img[2000:4000, 2000:4000]\n",
    "    io.imsave(hrpath_test + '_br.tiff', bot_right)\n",
    "\n",
    "    # low\n",
    "    top_leftLow = transform.downscale_local_mean(top_left, (3,3))\n",
    "    top_leftLow = (255 * top_leftLow/top_leftLow.max()).astype('uint8')\n",
    "    io.imsave(lrpath_train + '_tlx4.tiff', top_leftLow)\n",
    "\n",
    "    top_rightLow = transform.downscale_local_mean(top_right, (3,3))\n",
    "    top_rightLow = (255 * top_rightLow/top_rightLow.max()).astype('uint8')\n",
    "    io.imsave(lrpath_train + '_trx4.tiff', top_rightLow)\n",
    "\n",
    "    bot_leftLow = transform.downscale_local_mean(bot_left, (3,3))\n",
    "    bot_leftLow = (255 * bot_leftLow/bot_leftLow.max()).astype('uint8')\n",
    "    io.imsave(lrpath_train + '_blx4.tiff', bot_leftLow)\n",
    "\n",
    "    # save in testing\n",
    "    bot_rightLow = transform.downscale_local_mean(bot_right, (3,3))\n",
    "    bot_rightLow = (255 * bot_rightLow/bot_rightLow.max()).astype('uint8')\n",
    "    io.imsave(lrpath_test + '_brx4.tiff', bot_rightLow)"
   ]
  },
  {
   "cell_type": "code",
   "execution_count": 5,
   "metadata": {},
   "outputs": [],
   "source": [
    "# Path to folders\n",
    "hrPath = '/Users/anayakhan/Desktop/Pollock/dataset/pollockData/'\n",
    "lrPath = '/Users/anayakhan/Desktop/Pollock/dataset/pollockData/'\n",
    "ogPath = '/Users/anayakhan/Desktop/Pollock/dataset/pollockData/raw/'\n",
    "\n",
    "img1 = io.imread(ogPath + 'Slice1.tif')\n",
    "img2 = io.imread(ogPath + 'Slice2.tif')\n",
    "img3 = io.imread(ogPath + 'Slice3.tif')\n",
    "img4 = io.imread(ogPath + 'Slice4.tif')\n",
    "img5 = io.imread(ogPath + 'Slice5.tif')\n",
    "img6 = io.imread(ogPath + 'Slice6.tif')\n",
    "img7 = io.imread(ogPath + 'Slice7.tif')\n",
    "img8 = io.imread(ogPath + 'Slice8.tif')\n",
    "img9 = io.imread(ogPath + 'Slice9.tif')\n",
    "img10 = io.imread(ogPath + 'Slice10.tif')\n",
    "\n",
    "save(img1, hrPath + 'pollockData_train_HR/Slice1', lrPath + 'pollockData_train_LR/X4/Slice1', hrPath + 'pollockData_test_HR/Slice1', lrPath + 'pollockData_test_LR/X4/Slice1')\n",
    "save(img2, hrPath + 'pollockData_train_HR/Slice2', lrPath + 'pollockData_train_LR/X4/Slice2', hrPath + 'pollockData_test_HR/Slice2', lrPath + 'pollockData_test_LR/X4/Slice2')\n",
    "save(img3, hrPath + 'pollockData_train_HR/Slice3', lrPath + 'pollockData_train_LR/X4/Slice3', hrPath + 'pollockData_test_HR/Slice3', lrPath + 'pollockData_test_LR/X4/Slice3')\n",
    "save(img4, hrPath + 'pollockData_train_HR/Slice4', lrPath + 'pollockData_train_LR/X4/Slice4', hrPath + 'pollockData_test_HR/Slice4', lrPath + 'pollockData_test_LR/X4/Slice4')\n",
    "save(img5, hrPath + 'pollockData_train_HR/Slice5', lrPath + 'pollockData_train_LR/X4/Slice5', hrPath + 'pollockData_test_HR/Slice5', lrPath + 'pollockData_test_LR/X4/Slice5')\n",
    "save(img6, hrPath + 'pollockData_train_HR/Slice6', lrPath + 'pollockData_train_LR/X4/Slice6', hrPath + 'pollockData_test_HR/Slice6', lrPath + 'pollockData_test_LR/X4/Slice6')\n",
    "save(img7, hrPath + 'pollockData_train_HR/Slice7', lrPath + 'pollockData_train_LR/X4/Slice7', hrPath + 'pollockData_test_HR/Slice7', lrPath + 'pollockData_test_LR/X4/Slice7')\n",
    "save(img8, hrPath + 'pollockData_train_HR/Slice8', lrPath + 'pollockData_train_LR/X4/Slice8', hrPath + 'pollockData_test_HR/Slice8', lrPath + 'pollockData_test_LR/X4/Slice8')\n",
    "save(img9, hrPath + 'pollockData_train_HR/Slice9', lrPath + 'pollockData_train_LR/X4/Slice9', hrPath + 'pollockData_test_HR/Slice9', lrPath + 'pollockData_test_LR/X4/Slice9')\n",
    "save(img10, hrPath + 'pollockData_train_HR/Slice10', lrPath + 'pollockData_train_LR/X4/Slice10', hrPath + 'pollockData_test_HR/Slice10', lrPath + 'pollockData_test_LR/X4/Slice10')\n",
    "\n"
   ]
  },
  {
   "cell_type": "code",
   "execution_count": 9,
   "metadata": {},
   "outputs": [],
   "source": [
    "\"\"\" removing all of the tif files in HR and LR\n",
    "for f in os.listdir(hrPath):\n",
    "    if(f.find('.tiff') < 0):\n",
    "        os.remove(os.path.join(hrPath,f))\"\"\"\n",
    "\n",
    "import os\n",
    "\n",
    "hrRemPath = \"/Users/anayakhan/Desktop/Pollock/data_pollock/HR_train\"\n",
    "lrRemPath = \"/Users/anayakhan/Desktop/Pollock/data_pollock/LR_train\"\n",
    "\n",
    "# removing the bottom right images from the HR and LR train\n",
    "for f in os.listdir(hrRemPath):\n",
    "    if f.find('br') > 0:\n",
    "        os.remove(os.path.join(hrRemPath, f))\n",
    "\n",
    "for file in os.listdir(lrRemPath):\n",
    "    if f.find('br') > 0:\n",
    "        os.remove(os.path.join(lrRemPath, file))\n",
    "\n",
    "\n"
   ]
  }
 ],
 "metadata": {
  "kernelspec": {
   "display_name": "edsr",
   "language": "python",
   "name": "python3"
  },
  "language_info": {
   "codemirror_mode": {
    "name": "ipython",
    "version": 3
   },
   "file_extension": ".py",
   "mimetype": "text/x-python",
   "name": "python",
   "nbconvert_exporter": "python",
   "pygments_lexer": "ipython3",
   "version": "3.11.4"
  },
  "orig_nbformat": 4
 },
 "nbformat": 4,
 "nbformat_minor": 2
}
