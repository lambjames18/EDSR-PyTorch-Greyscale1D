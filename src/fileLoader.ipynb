{
 "cells": [
  {
   "cell_type": "code",
   "execution_count": 3,
   "metadata": {},
   "outputs": [],
   "source": [
    "from skimage import io, transform"
   ]
  },
  {
   "cell_type": "code",
   "execution_count": 14,
   "metadata": {},
   "outputs": [],
   "source": [
    "# high and low resolution \n",
    "def save(img, hrpath, lrpath): \n",
    "    # high \n",
    "    top_left = img[:2000, :2000]\n",
    "    io.imsave(hrpath + '_tl.tif', top_left)\n",
    "\n",
    "    top_right = img[:2000, 2000:4000]\n",
    "    io.imsave(hrpath + '_tr.tif', top_right)\n",
    "\n",
    "    bot_left = img[2000:4000, :2000]\n",
    "    io.imsave(hrpath + '_bl.tif', bot_left)\n",
    "\n",
    "    bot_right = img[2000:4000, 2000:4000]\n",
    "    io.imsave(hrpath + '_br.tif', bot_right)\n",
    "\n",
    "    # low\n",
    "    top_leftLow = transform.downscale_local_mean(top_left, (3,3))\n",
    "    top_leftLow = (255 * top_leftLow/top_leftLow.max()).astype('uint8')\n",
    "    io.imsave(lrpath + '_tlLow.tif', top_leftLow)\n",
    "\n",
    "    top_rightLow = transform.downscale_local_mean(top_right, (3,3))\n",
    "    top_rightLow = (255 * top_rightLow/top_rightLow.max()).astype('uint8')\n",
    "    io.imsave(lrpath + '_trLow.tif', top_rightLow)\n",
    "\n",
    "    bot_leftLow = transform.downscale_local_mean(bot_left, (3,3))\n",
    "    bot_leftLow = (255 * bot_leftLow/bot_leftLow.max()).astype('uint8')\n",
    "    io.imsave(lrpath + '_blLow.tif', bot_leftLow)\n",
    "\n",
    "    bot_rightLow = transform.downscale_local_mean(bot_right, (3,3))\n",
    "    bot_rightLow = (255 * bot_rightLow/bot_rightLow.max()).astype('uint8')\n",
    "    io.imsave(lrpath + '_brLow.tif', bot_rightLow)"
   ]
  },
  {
   "cell_type": "code",
   "execution_count": 15,
   "metadata": {},
   "outputs": [
    {
     "name": "stdout",
     "output_type": "stream",
     "text": [
      "uint8\n"
     ]
    }
   ],
   "source": [
    "# Path to high resolution folder\n",
    "hrPath = '/Users/anayakhan/Desktop/Pollock/data_pollock/HR/'\n",
    "lrPath = '/Users/anayakhan/Desktop/Pollock/data_pollock/LR/'\n",
    "ogPath = '/Users/anayakhan/Desktop/Pollock/data_pollock/raw/'\n",
    "\n",
    "img1 = io.imread(ogPath + 'Slice1.tif')\n",
    "img2 = io.imread(ogPath + 'Slice2.tif')\n",
    "img3 = io.imread(ogPath + 'Slice3.tif')\n",
    "img4 = io.imread(ogPath + 'Slice4.tif')\n",
    "img5 = io.imread(ogPath + 'Slice5.tif')\n",
    "img6 = io.imread(ogPath + 'Slice6.tif')\n",
    "img7 = io.imread(ogPath + 'Slice7.tif')\n",
    "img8 = io.imread(ogPath + 'Slice8.tif')\n",
    "img9 = io.imread(ogPath + 'Slice9.tif')\n",
    "img10 = io.imread(ogPath + 'Slice10.tif')\n",
    "\n",
    "save(img1, hrPath + 'Slice1', lrPath + 'Slice1')\n",
    "save(img2, hrPath + 'Slice2', lrPath + 'Slice2')\n",
    "save(img3, hrPath + 'Slice3', lrPath + 'Slice3')\n",
    "save(img4, hrPath + 'Slice4', lrPath + 'Slice4')\n",
    "save(img5, hrPath + 'Slice5', lrPath + 'Slice5')\n",
    "save(img6, hrPath + 'Slice6', lrPath + 'Slice6')\n",
    "save(img7, hrPath + 'Slice7', lrPath + 'Slice7')\n",
    "save(img8, hrPath + 'Slice8', lrPath + 'Slice8')\n",
    "save(img9, hrPath + 'Slice9', lrPath + 'Slice9')\n",
    "save(img10, hrPath + 'Slice10', lrPath + 'Slice10')\n",
    "\n"
   ]
  },
  {
   "cell_type": "code",
   "execution_count": null,
   "metadata": {},
   "outputs": [],
   "source": []
  }
 ],
 "metadata": {
  "kernelspec": {
   "display_name": "edsr",
   "language": "python",
   "name": "python3"
  },
  "language_info": {
   "codemirror_mode": {
    "name": "ipython",
    "version": 3
   },
   "file_extension": ".py",
   "mimetype": "text/x-python",
   "name": "python",
   "nbconvert_exporter": "python",
   "pygments_lexer": "ipython3",
   "version": "3.11.4"
  },
  "orig_nbformat": 4
 },
 "nbformat": 4,
 "nbformat_minor": 2
}
