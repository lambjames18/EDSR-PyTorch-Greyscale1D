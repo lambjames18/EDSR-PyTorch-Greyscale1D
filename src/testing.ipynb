{
 "cells": [
  {
   "cell_type": "code",
   "execution_count": 1,
   "metadata": {},
   "outputs": [],
   "source": [
    "import torch\n",
    "from model import common"
   ]
  },
  {
   "cell_type": "code",
   "execution_count": 2,
   "metadata": {},
   "outputs": [
    {
     "name": "stdout",
     "output_type": "stream",
     "text": [
      "tensor([[[[0.2622, 0.8329, 0.3123, 0.8319],\n",
      "          [0.0807, 0.2971, 0.0871, 0.9388],\n",
      "          [0.0105, 0.7819, 0.2684, 0.4612],\n",
      "          [0.0144, 0.7014, 0.8220, 0.9527]]]])\n",
      "tensor([[[[-127.2378, -126.6671, -127.1877, -126.6681],\n",
      "          [-127.4193, -127.2029, -127.4129, -126.5612],\n",
      "          [-127.4895, -126.7181, -127.2316, -127.0388],\n",
      "          [-127.4856, -126.7986, -126.6780, -126.5473]]]])\n"
     ]
    }
   ],
   "source": [
    "x = torch.rand(1, 1, 4, 4)\n",
    "print(x)\n",
    "print(common.MeanShift(255)(x))"
   ]
  },
  {
   "cell_type": "code",
   "execution_count": 7,
   "metadata": {},
   "outputs": [
    {
     "name": "stdout",
     "output_type": "stream",
     "text": [
      "True\n"
     ]
    }
   ],
   "source": [
    "path = \"\"\n",
    "print(bool(path))"
   ]
  },
  {
   "cell_type": "code",
   "execution_count": null,
   "metadata": {},
   "outputs": [],
   "source": []
  }
 ],
 "metadata": {
  "kernelspec": {
   "display_name": "edsr",
   "language": "python",
   "name": "python3"
  },
  "language_info": {
   "codemirror_mode": {
    "name": "ipython",
    "version": 3
   },
   "file_extension": ".py",
   "mimetype": "text/x-python",
   "name": "python",
   "nbconvert_exporter": "python",
   "pygments_lexer": "ipython3",
   "version": "3.11.4"
  },
  "orig_nbformat": 4
 },
 "nbformat": 4,
 "nbformat_minor": 2
}
